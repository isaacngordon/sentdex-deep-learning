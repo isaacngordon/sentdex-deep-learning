{
 "cells": [
  {
   "cell_type": "code",
   "execution_count": 1,
   "metadata": {},
   "outputs": [],
   "source": [
    "import tensorflow as tf\n",
    "from tensorflow.keras.models import Sequential\n",
    "from tensorflow.keras.layers import Dense, Dropout, Activation, Flatten, Conv2D, MaxPooling2D\n",
    "import pickle\n",
    "\n",
    "#reload pickle saved data\n",
    "x = pickle.load(open('x-sentdex-2.pickle', 'rb'))\n",
    "y = pickle.load(open('y-sentdex-2.pickle', 'rb'))\n",
    "\n",
    "#normalize the data, we know pixel data is 0-255 so we will use that simply\n",
    "x = x/255.0"
   ]
  },
  {
   "cell_type": "code",
   "execution_count": 3,
   "metadata": {},
   "outputs": [
    {
     "name": "stdout",
     "output_type": "stream",
     "text": [
      "Train on 22451 samples, validate on 2495 samples\n",
      "WARNING:tensorflow:From /Users/isaacgordon/anaconda3/envs/sentdex/lib/python3.6/site-packages/tensorflow/python/ops/math_ops.py:3066: to_int32 (from tensorflow.python.ops.math_ops) is deprecated and will be removed in a future version.\n",
      "Instructions for updating:\n",
      "Use tf.cast instead.\n",
      "Epoch 1/10\n",
      "22451/22451 [==============================] - 135s 6ms/sample - loss: 0.6260 - acc: 0.6404 - val_loss: 0.5366 - val_acc: 0.7295\n",
      "Epoch 2/10\n",
      "22451/22451 [==============================] - 127s 6ms/sample - loss: 0.5154 - acc: 0.7473 - val_loss: 0.4883 - val_acc: 0.7631\n",
      "Epoch 3/10\n",
      "22451/22451 [==============================] - 126s 6ms/sample - loss: 0.4618 - acc: 0.7812 - val_loss: 0.4535 - val_acc: 0.7840\n",
      "Epoch 4/10\n",
      "22451/22451 [==============================] - 127s 6ms/sample - loss: 0.4236 - acc: 0.8033 - val_loss: 0.4534 - val_acc: 0.7880\n",
      "Epoch 5/10\n",
      "22451/22451 [==============================] - 126s 6ms/sample - loss: 0.3848 - acc: 0.8269 - val_loss: 0.4425 - val_acc: 0.7960\n",
      "Epoch 6/10\n",
      "22451/22451 [==============================] - 127s 6ms/sample - loss: 0.3466 - acc: 0.8484 - val_loss: 0.4369 - val_acc: 0.8024\n",
      "Epoch 7/10\n",
      "22451/22451 [==============================] - 123s 5ms/sample - loss: 0.3075 - acc: 0.8686 - val_loss: 0.4696 - val_acc: 0.8024\n",
      "Epoch 8/10\n",
      "22451/22451 [==============================] - 123s 5ms/sample - loss: 0.2628 - acc: 0.8898 - val_loss: 0.4882 - val_acc: 0.8040\n",
      "Epoch 9/10\n",
      "22451/22451 [==============================] - 121s 5ms/sample - loss: 0.2173 - acc: 0.9109 - val_loss: 0.5459 - val_acc: 0.7984\n",
      "Epoch 10/10\n",
      "22451/22451 [==============================] - 120s 5ms/sample - loss: 0.1729 - acc: 0.9331 - val_loss: 0.5719 - val_acc: 0.7976\n"
     ]
    },
    {
     "data": {
      "text/plain": [
       "<tensorflow.python.keras.callbacks.History at 0xb50726278>"
      ]
     },
     "execution_count": 3,
     "metadata": {},
     "output_type": "execute_result"
    }
   ],
   "source": [
    "#create model (this is 5 layers)\n",
    "\n",
    "#input layer\n",
    "model = Sequential()\n",
    "\n",
    "#first Conv layer\n",
    "model.add(  Conv2D(64, (3,3), input_shape=x.shape[1:])  ) #layerType, templateSize, skips first value(num_feat_set)\n",
    "model.add(Activation('relu')) #rectified linear activatin func\n",
    "model.add(MaxPooling2D(pool_size=(2,2))) #pooling almost always follows a conv layer\n",
    "\n",
    "#second conv layer\n",
    "model.add(  Conv2D(64, (3,3), input_shape = x.shape[1:])  ) #layerType, templateSize, skips first value(num_feat_set)\n",
    "model.add(Activation('relu')) #rectified linear activatin func\n",
    "model.add(MaxPooling2D(pool_size=(2,2))) #pooling almost always follows a conv layer\n",
    "\n",
    "#dense last hidden layer\n",
    "model.add( Flatten() )\n",
    "model.add( Dense(64) )\n",
    "model.add( Activation('relu') )\n",
    "\n",
    "#output layer\n",
    "model.add( Dense(1) )\n",
    "model.add( Activation('sigmoid') )\n",
    "\n",
    "#compile\n",
    "model.compile(loss='binary_crossentropy',\n",
    "             optimizer='adam',\n",
    "             metrics=['accuracy'])\n",
    "\n",
    "#run, set batch size to something responsable subjective to the size of the data set\n",
    "model.fit(x, \n",
    "          y, \n",
    "          batch_size=32, \n",
    "          epochs=10, \n",
    "          validation_split=0.1) #defines 10% of the data to be used for the validation set\n"
   ]
  },
  {
   "cell_type": "code",
   "execution_count": null,
   "metadata": {},
   "outputs": [],
   "source": []
  }
 ],
 "metadata": {
  "kernelspec": {
   "display_name": "Python 3",
   "language": "python",
   "name": "python3"
  },
  "language_info": {
   "codemirror_mode": {
    "name": "ipython",
    "version": 3
   },
   "file_extension": ".py",
   "mimetype": "text/x-python",
   "name": "python",
   "nbconvert_exporter": "python",
   "pygments_lexer": "ipython3",
   "version": "3.6.8"
  }
 },
 "nbformat": 4,
 "nbformat_minor": 2
}
