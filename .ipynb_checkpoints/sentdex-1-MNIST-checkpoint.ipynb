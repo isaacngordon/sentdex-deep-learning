{
 "cells": [
  {
   "cell_type": "code",
   "execution_count": 27,
   "metadata": {},
   "outputs": [],
   "source": [
    "import tensorflow as tf\n",
    "import numpy as np\n",
    "\n",
    "mnist = tf.keras.datasets.mnist #2828 images of handritten digits 0-9 \n",
    "\n",
    "#load the data set into variables\n",
    "(x_train, y_train), (x_test, y_test) = mnist.load_data()\n",
    "\n",
    "#normalize input if need be\n",
    "#pixel darkness  is between 0-255, so we want to normalize it so itll be in a smaller range\n",
    "x_train = tf.keras.utils.normalize(x_train, axis=1)\n",
    "x_test = tf.keras.utils.normalize(x_test, axis=1)"
   ]
  },
  {
   "cell_type": "code",
   "execution_count": 28,
   "metadata": {
    "scrolled": true
   },
   "outputs": [
    {
     "data": {
      "image/png": "[encoded data removed]",
      "text/plain": [
       "<Figure size 432x288 with 1 Axes>"
      ]
     },
     "metadata": {
      "needs_background": "light"
     },
     "output_type": "display_data"
    }
   ],
   "source": [
    "#example of what the image looks like after normalizing \n",
    "import matplotlib.pyplot as plt\n",
    "\n",
    "plt.imshow(x_train[0], cmap = plt.cm.binary) #show this image with a binary (B&W) colormap \n",
    "plt.show()\n"
   ]
  },
  {
   "cell_type": "code",
   "execution_count": 29,
   "metadata": {},
   "outputs": [
    {
     "name": "stdout",
     "output_type": "stream",
     "text": [
      "Epoch 1/3\n",
      "60000/60000 [==============================] - 7s 119us/sample - loss: 0.2644 - acc: 0.9231\n",
      "Epoch 2/3\n",
      "60000/60000 [==============================] - 7s 116us/sample - loss: 0.1104 - acc: 0.9658\n",
      "Epoch 3/3\n",
      "60000/60000 [==============================] - 7s 113us/sample - loss: 0.0736 - acc: 0.9769\n"
     ]
    },
    {
     "data": {
      "text/plain": [
       "<tensorflow.python.keras.callbacks.History at 0xb355dbd30>"
      ]
     },
     "execution_count": 29,
     "metadata": {},
     "output_type": "execute_result"
    }
   ],
   "source": [
    "#create the model\n",
    "model = tf.keras.models.Sequential() #use keras sequential model\n",
    "model.add(tf.keras.layers.Flatten()) #layer 1: flatten the image into a 1D inputs\n",
    "model.add(tf.keras.layers.Dense(128, activation=tf.nn.relu)) #(hidden)layer 2: 128 neurons, relu activation\n",
    "model.add(tf.keras.layers.Dense(128, activation=tf.nn.relu)) #(hidden)layer 3: 128 neurons, relu activation\n",
    "model.add(tf.keras.layers.Dense(10, activation=tf.nn.softmax)) #layer 4: output layer, 10 neurons {labels 0-9}, activation is a probability distributio 0-1 \n",
    "\n",
    "#compile with the training parameters\n",
    "model.compile(optimizer='adam',   \n",
    "             loss='sparse_categorical_crossentropy',\n",
    "             metrics=['accuracy']\n",
    "             )\n",
    "model.fit(x_train, y_train, epochs=3) #train on the data for 3 epochs"
   ]
  },
  {
   "cell_type": "code",
   "execution_count": 30,
   "metadata": {},
   "outputs": [
    {
     "name": "stdout",
     "output_type": "stream",
     "text": [
      "10000/10000 [==============================] - 1s 51us/sample - loss: 0.0945 - acc: 0.9682\n",
      "val_loss= 0.0945274720788002 val_acc= 0.9682\n"
     ]
    }
   ],
   "source": [
    "#evaluate the model for over/under fitting\n",
    "val_loss, val_acc = model.evaluate(x_test, y_test) #run model on test data\n",
    "print('val_loss=', val_loss, \"val_acc=\", val_acc)  #print out loss and accuracy\n"
   ]
  },
  {
   "cell_type": "code",
   "execution_count": 31,
   "metadata": {},
   "outputs": [],
   "source": [
    "#save the model\n",
    "model.save(\"sentdex-tut-1.model\")"
   ]
  },
  {
   "cell_type": "code",
   "execution_count": 32,
   "metadata": {},
   "outputs": [
    {
     "name": "stdout",
     "output_type": "stream",
     "text": [
      "WARNING:tensorflow:Sequential models without an `input_shape` passed to the first layer cannot reload their optimizer state. As a result, your model isstarting with a freshly initialized optimizer.\n"
     ]
    }
   ],
   "source": [
    "#load a model\n",
    "a_model = tf.keras.models.load_model(\"sentdex-tut-1.model\")"
   ]
  },
  {
   "cell_type": "code",
   "execution_count": 36,
   "metadata": {},
   "outputs": [
    {
     "name": "stdout",
     "output_type": "stream",
     "text": [
      "7 2 1\n"
     ]
    }
   ],
   "source": [
    "#predict on the model, print first 3 predictions\n",
    "predictions = a_model.predict([x_test])\n",
    "print(np.argmax(predictions[0]),np.argmax(predictions[1]),np.argmax(predictions[2]))"
   ]
  },
  {
   "cell_type": "code",
   "execution_count": 37,
   "metadata": {},
   "outputs": [
    {
     "data": {
      "image/png": "[encoded data removed]",
      "text/plain": [
       "<Figure size 432x288 with 1 Axes>"
      ]
     },
     "metadata": {
      "needs_background": "light"
     },
     "output_type": "display_data"
    },
    {
     "data": {
      "image/png": "[encoded data removed]",
      "text/plain": [
       "<Figure size 432x288 with 1 Axes>"
      ]
     },
     "metadata": {
      "needs_background": "light"
     },
     "output_type": "display_data"
    },
    {
     "data": {
      "image/png": "[encoded data removed]",
      "text/plain": [
       "<Figure size 432x288 with 1 Axes>"
      ]
     },
     "metadata": {
      "needs_background": "light"
     },
     "output_type": "display_data"
    }
   ],
   "source": [
    "#show the 3 first items passed in\n",
    "plt.imshow(x_test[0])\n",
    "plt.show()\n",
    "plt.imshow(x_test[1])\n",
    "plt.show()\n",
    "plt.imshow(x_test[2])\n",
    "plt.show()"
   ]
  }
 ],
 "metadata": {
  "kernelspec": {
   "display_name": "Python 3",
   "language": "python",
   "name": "python3"
  },
  "language_info": {
   "codemirror_mode": {
    "name": "ipython",
    "version": 3
   },
   "file_extension": ".py",
   "mimetype": "text/x-python",
   "name": "python",
   "nbconvert_exporter": "python",
   "pygments_lexer": "ipython3",
   "version": "3.6.8"
  }
 },
 "nbformat": 4,
 "nbformat_minor": 2
}
