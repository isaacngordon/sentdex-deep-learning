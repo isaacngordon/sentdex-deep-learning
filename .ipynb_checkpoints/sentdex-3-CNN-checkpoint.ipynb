{
 "cells": [
  {
   "cell_type": "code",
   "execution_count": 1,
   "metadata": {},
   "outputs": [],
   "source": [
    "import tensorflow as tf\n",
    "from tensorflow.keras.models import Sequential\n",
    "from tensorflow.keras.layers import Dense, Dropout, Activation, Flatten, Conv2D, MaxPooling2D\n",
    "import pickle\n",
    "\n",
    "#reload pickle saved data\n",
    "x = pickle.load(open('x-sentdex-2.pickle', 'rb'))\n",
    "y = pickle.load(open('y-sentdex-2.pickle', 'rb'))\n",
    "\n",
    "#normalize the data, we know pixel data is 0-255 so we will use that simply\n",
    "x = x/255.0"
   ]
  },
  {
   "cell_type": "code",
   "execution_count": 4,
   "metadata": {},
   "outputs": [
    {
     "name": "stdout",
     "output_type": "stream",
     "text": [
      "Train on 22451 samples, validate on 2495 samples\n",
      "Epoch 1/10\n",
      "22451/22451 [==============================] - 142s 6ms/sample - loss: 0.6116 - acc: 0.6587 - val_loss: 0.5734 - val_acc: 0.7014\n",
      "Epoch 2/10\n",
      "22451/22451 [==============================] - 135s 6ms/sample - loss: 0.5251 - acc: 0.7422 - val_loss: 0.5996 - val_acc: 0.6870\n",
      "Epoch 3/10\n",
      "22451/22451 [==============================] - 137s 6ms/sample - loss: 0.4975 - acc: 0.7615 - val_loss: 0.4702 - val_acc: 0.7812\n",
      "Epoch 4/10\n",
      "22451/22451 [==============================] - 126s 6ms/sample - loss: 0.4693 - acc: 0.7787 - val_loss: 0.4621 - val_acc: 0.7796\n",
      "Epoch 5/10\n",
      "22451/22451 [==============================] - 125s 6ms/sample - loss: 0.4549 - acc: 0.7861 - val_loss: 0.4645 - val_acc: 0.7904\n",
      "Epoch 6/10\n",
      "22451/22451 [==============================] - 126s 6ms/sample - loss: 0.4283 - acc: 0.8036 - val_loss: 0.4854 - val_acc: 0.7695\n",
      "Epoch 7/10\n",
      "22451/22451 [==============================] - 123s 5ms/sample - loss: 0.4063 - acc: 0.8124 - val_loss: 0.4782 - val_acc: 0.7840\n",
      "Epoch 8/10\n",
      "22451/22451 [==============================] - 122s 5ms/sample - loss: 0.3949 - acc: 0.8222 - val_loss: 0.4385 - val_acc: 0.7968\n",
      "Epoch 9/10\n",
      "22451/22451 [==============================] - 121s 5ms/sample - loss: 0.3780 - acc: 0.8317 - val_loss: 0.4834 - val_acc: 0.7715\n",
      "Epoch 10/10\n",
      "22451/22451 [==============================] - 121s 5ms/sample - loss: 0.3599 - acc: 0.8411 - val_loss: 0.4445 - val_acc: 0.7996\n"
     ]
    },
    {
     "data": {
      "text/plain": [
       "<tensorflow.python.keras.callbacks.History at 0xb2b7e71d0>"
      ]
     },
     "execution_count": 4,
     "metadata": {},
     "output_type": "execute_result"
    }
   ],
   "source": [
    "#create model (this is 5 layers)\n",
    "\n",
    "#input layer\n",
    "model = Sequential()\n",
    "\n",
    "#first Conv layer\n",
    "model.add(  Conv2D(64, (3,3), input_shape=x.shape[1:])  ) #layerType, templateSize, skips first value(num_feat_set)\n",
    "model.add(Activation('relu')) #rectified linear activatin func\n",
    "model.add(MaxPooling2D(pool_size=(2,2))) #pooling almost always follows a conv layer\n",
    "\n",
    "#second conv layer\n",
    "model.add(  Conv2D(64, (3,3), input_shape = x.shape[1:])  ) #layerType, templateSize, skips first value(num_feat_set)\n",
    "model.add(Activation('relu')) #rectified linear activatin func\n",
    "model.add(MaxPooling2D(pool_size=(2,2))) #pooling almost always follows a conv layer\n",
    "\n",
    "#dense last hidden layer\n",
    "model.add( Flatten() )\n",
    "model.add( Dense(64) )\n",
    "model.add( Activation='relu' )\n",
    "\n",
    "#output layer\n",
    "model.add( Dense(1) )\n",
    "model.add( Activation('sigmoid') )\n",
    "\n",
    "#compile\n",
    "model.compile(loss='binary_crossentropy',\n",
    "             optimizer='adam',\n",
    "             metrics=['accuracy'])\n",
    "\n",
    "#run, set batch size to something responsable subjective to the size of the data set\n",
    "model.fit(x, \n",
    "          y, \n",
    "          batch_size=32, \n",
    "          epochs=10, \n",
    "          validation_split=0.1) #defines 10% of the data to be used for the validation set\n"
   ]
  },
  {
   "cell_type": "code",
   "execution_count": null,
   "metadata": {},
   "outputs": [],
   "source": []
  }
 ],
 "metadata": {
  "kernelspec": {
   "display_name": "Python 3",
   "language": "python",
   "name": "python3"
  },
  "language_info": {
   "codemirror_mode": {
    "name": "ipython",
    "version": 3
   },
   "file_extension": ".py",
   "mimetype": "text/x-python",
   "name": "python",
   "nbconvert_exporter": "python",
   "pygments_lexer": "ipython3",
   "version": "3.6.8"
  }
 },
 "nbformat": 4,
 "nbformat_minor": 2
}
